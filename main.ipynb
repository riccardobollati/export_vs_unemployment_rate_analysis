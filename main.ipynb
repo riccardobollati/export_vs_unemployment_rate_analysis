{
  "cells": [
    {
      "cell_type": "markdown",
      "metadata": {
        "id": "edTBNNueJuQl"
      },
      "source": [
        "## <center><strong><font size ='8'>- Export vs unemployment -</font></strong></center>"
      ]
    },
    {
      "cell_type": "markdown",
      "metadata": {
        "id": "9d2FOgYn4Os7"
      },
      "source": [
        "## 1 <span style='color:#164cf0'>|</span> Import libraries"
      ]
    },
    {
      "cell_type": "markdown",
      "metadata": {
        "id": "GzOQm0w54Os9"
      },
      "source": [
        "<p><font size = '4'>before running the code make sure to have all the libraries required installed (check the file REQUIREMENTS.txt)</font></p>\n",
        "<p><font size = '4'>The libraries listed are necessary to run the code properly on visual studio code, the list includes sone libraries used for the graphic rendering of the notebook in the IDE so if you are running the code in colab you don't need to install them.</font></p>"
      ]
    },
    {
      "cell_type": "code",
      "execution_count": 1,
      "metadata": {
        "id": "f0TkENjS4Os-"
      },
      "outputs": [],
      "source": [
        "import pandas as pd\n",
        "import math\n",
        "import numpy as np\n",
        "import matplotlib.pyplot as plt\n",
        "import seaborn as sns\n",
        "import json\n",
        "import ipywidgets as widgets\n",
        "import statsmodels.api as sm\n",
        "import statistics\n",
        "from scipy.stats import t\n",
        "\n",
        "from sklearn import preprocessing\n",
        "\n",
        "#custom scripts\n",
        "import manage_data\n",
        "import plot_data"
      ]
    },
    {
      "cell_type": "markdown",
      "metadata": {
        "id": "7X0fWDI64Os_"
      },
      "source": [
        "## 2 <span style='color:#164cf0'>|</span> import data"
      ]
    },
    {
      "cell_type": "markdown",
      "metadata": {
        "id": "YZeAFPwQJG1g"
      },
      "source": [
        "<font size = '4'>2.1 <span style='color:#164cf0'>|</span> import unemployment rates data</font>"
      ]
    },
    {
      "cell_type": "code",
      "execution_count": 2,
      "metadata": {
        "id": "YTx_uc5W4Os_"
      },
      "outputs": [],
      "source": [
        "un_rates_df = pd.read_csv('data/unemployment_rate.csv')\n",
        "#delete useless columns\n",
        "un_rates_df.drop(['Series Name','Series Code','1990 [YR1990]'], inplace= True, axis= 1)\n",
        "#rename columns\n",
        "un_rates_df.columns = ['country', 'country code'] + [i for i in range(1991,2021)]"
      ]
    },
    {
      "cell_type": "code",
      "execution_count": 3,
      "metadata": {
        "id": "0iZSrZVI4OtA"
      },
      "outputs": [],
      "source": [
        "#modify dataset to make it more accessible\n",
        "un_rates_df = pd.melt(un_rates_df, id_vars=['country', 'country code'],var_name=\"year\", value_name=\"value\")\n",
        "un_rates_df = un_rates_df.sort_values(['country', 'year'])"
      ]
    },
    {
      "cell_type": "code",
      "execution_count": 4,
      "metadata": {
        "id": "PEs4LBGT4OtB"
      },
      "outputs": [],
      "source": [
        "#drop rows with no value\n",
        "un_rates_df.drop(un_rates_df[un_rates_df['value'] == '..'].index, axis = 0, inplace = True)\n",
        "un_rates_df = un_rates_df.loc[un_rates_df['year'] >= 2000]"
      ]
    },
    {
      "cell_type": "code",
      "execution_count": 5,
      "metadata": {},
      "outputs": [
        {
          "data": {
            "text/html": [
              "<div>\n",
              "<style scoped>\n",
              "    .dataframe tbody tr th:only-of-type {\n",
              "        vertical-align: middle;\n",
              "    }\n",
              "\n",
              "    .dataframe tbody tr th {\n",
              "        vertical-align: top;\n",
              "    }\n",
              "\n",
              "    .dataframe thead th {\n",
              "        text-align: right;\n",
              "    }\n",
              "</style>\n",
              "<table border=\"1\" class=\"dataframe\">\n",
              "  <thead>\n",
              "    <tr style=\"text-align: right;\">\n",
              "      <th></th>\n",
              "      <th>country</th>\n",
              "      <th>country code</th>\n",
              "      <th>year</th>\n",
              "      <th>value</th>\n",
              "    </tr>\n",
              "  </thead>\n",
              "  <tbody>\n",
              "    <tr>\n",
              "      <th>1953</th>\n",
              "      <td>Afghanistan</td>\n",
              "      <td>AFG</td>\n",
              "      <td>2000</td>\n",
              "      <td>10.8059997558594</td>\n",
              "    </tr>\n",
              "    <tr>\n",
              "      <th>2170</th>\n",
              "      <td>Afghanistan</td>\n",
              "      <td>AFG</td>\n",
              "      <td>2001</td>\n",
              "      <td>10.8090000152588</td>\n",
              "    </tr>\n",
              "    <tr>\n",
              "      <th>2387</th>\n",
              "      <td>Afghanistan</td>\n",
              "      <td>AFG</td>\n",
              "      <td>2002</td>\n",
              "      <td>11.2569999694824</td>\n",
              "    </tr>\n",
              "    <tr>\n",
              "      <th>2604</th>\n",
              "      <td>Afghanistan</td>\n",
              "      <td>AFG</td>\n",
              "      <td>2003</td>\n",
              "      <td>11.1409997940063</td>\n",
              "    </tr>\n",
              "    <tr>\n",
              "      <th>2821</th>\n",
              "      <td>Afghanistan</td>\n",
              "      <td>AFG</td>\n",
              "      <td>2004</td>\n",
              "      <td>10.9879999160767</td>\n",
              "    </tr>\n",
              "  </tbody>\n",
              "</table>\n",
              "</div>"
            ],
            "text/plain": [
              "          country country code  year             value\n",
              "1953  Afghanistan          AFG  2000  10.8059997558594\n",
              "2170  Afghanistan          AFG  2001  10.8090000152588\n",
              "2387  Afghanistan          AFG  2002  11.2569999694824\n",
              "2604  Afghanistan          AFG  2003  11.1409997940063\n",
              "2821  Afghanistan          AFG  2004  10.9879999160767"
            ]
          },
          "execution_count": 5,
          "metadata": {},
          "output_type": "execute_result"
        }
      ],
      "source": [
        "un_rates_df.head()"
      ]
    },
    {
      "cell_type": "markdown",
      "metadata": {
        "id": "xeqVC0IEJizc"
      },
      "source": [
        "<font size = '4'>2.2 <span style='color:#164cf0'>|</span> import services export data</font>"
      ]
    },
    {
      "cell_type": "code",
      "execution_count": 6,
      "metadata": {},
      "outputs": [],
      "source": [
        "#download all the json files containg the information about exports\n",
        "manage_data.download_jsons(destination='export_data', start_date = 2000, end_date = 2020, type = 2)"
      ]
    },
    {
      "cell_type": "code",
      "execution_count": 7,
      "metadata": {},
      "outputs": [
        {
          "name": "stderr",
          "output_type": "stream",
          "text": [
            "processing year: 2020: 100%|██████████| 21/21 [00:05<00:00,  3.89it/s]\n"
          ]
        }
      ],
      "source": [
        "#turn the json files into a single dataframe\n",
        "df_exports, cat_map = manage_data.create_df('export_data')\n",
        "#drop EU\n",
        "df_exports.drop(df_exports.loc[df_exports['country'] == 'EU'].index, axis=0, inplace=True)"
      ]
    },
    {
      "cell_type": "code",
      "execution_count": 8,
      "metadata": {},
      "outputs": [
        {
          "data": {
            "text/html": [
              "<div>\n",
              "<style scoped>\n",
              "    .dataframe tbody tr th:only-of-type {\n",
              "        vertical-align: middle;\n",
              "    }\n",
              "\n",
              "    .dataframe tbody tr th {\n",
              "        vertical-align: top;\n",
              "    }\n",
              "\n",
              "    .dataframe thead th {\n",
              "        text-align: right;\n",
              "    }\n",
              "</style>\n",
              "<table border=\"1\" class=\"dataframe\">\n",
              "  <thead>\n",
              "    <tr style=\"text-align: right;\">\n",
              "      <th></th>\n",
              "      <th>country</th>\n",
              "      <th>year</th>\n",
              "      <th>200</th>\n",
              "      <th>205</th>\n",
              "      <th>236</th>\n",
              "      <th>245</th>\n",
              "      <th>249</th>\n",
              "      <th>253</th>\n",
              "      <th>260</th>\n",
              "      <th>262</th>\n",
              "      <th>...</th>\n",
              "      <th>950</th>\n",
              "      <th>960</th>\n",
              "      <th>961</th>\n",
              "      <th>962</th>\n",
              "      <th>970</th>\n",
              "      <th>983</th>\n",
              "      <th>999</th>\n",
              "      <th>851</th>\n",
              "      <th>852</th>\n",
              "      <th>850</th>\n",
              "    </tr>\n",
              "  </thead>\n",
              "  <tbody>\n",
              "    <tr>\n",
              "      <th>0</th>\n",
              "      <td>Afghanistan</td>\n",
              "      <td>2008</td>\n",
              "      <td>0</td>\n",
              "      <td>123489461</td>\n",
              "      <td>21275821</td>\n",
              "      <td>0</td>\n",
              "      <td>662126945</td>\n",
              "      <td>670193</td>\n",
              "      <td>0</td>\n",
              "      <td>0</td>\n",
              "      <td>...</td>\n",
              "      <td>0</td>\n",
              "      <td>0</td>\n",
              "      <td>0</td>\n",
              "      <td>0</td>\n",
              "      <td>0</td>\n",
              "      <td>0</td>\n",
              "      <td>0</td>\n",
              "      <td>0</td>\n",
              "      <td>0</td>\n",
              "      <td>0</td>\n",
              "    </tr>\n",
              "    <tr>\n",
              "      <th>1</th>\n",
              "      <td>Afghanistan</td>\n",
              "      <td>2009</td>\n",
              "      <td>0</td>\n",
              "      <td>147976244</td>\n",
              "      <td>39038728</td>\n",
              "      <td>0</td>\n",
              "      <td>701645334</td>\n",
              "      <td>1878536</td>\n",
              "      <td>0</td>\n",
              "      <td>0</td>\n",
              "      <td>...</td>\n",
              "      <td>0</td>\n",
              "      <td>0</td>\n",
              "      <td>0</td>\n",
              "      <td>0</td>\n",
              "      <td>0</td>\n",
              "      <td>0</td>\n",
              "      <td>0</td>\n",
              "      <td>0</td>\n",
              "      <td>0</td>\n",
              "      <td>0</td>\n",
              "    </tr>\n",
              "    <tr>\n",
              "      <th>2</th>\n",
              "      <td>Afghanistan</td>\n",
              "      <td>2010</td>\n",
              "      <td>0</td>\n",
              "      <td>215035884</td>\n",
              "      <td>55179237</td>\n",
              "      <td>0</td>\n",
              "      <td>1056567947</td>\n",
              "      <td>3157760</td>\n",
              "      <td>0</td>\n",
              "      <td>0</td>\n",
              "      <td>...</td>\n",
              "      <td>0</td>\n",
              "      <td>0</td>\n",
              "      <td>0</td>\n",
              "      <td>0</td>\n",
              "      <td>0</td>\n",
              "      <td>0</td>\n",
              "      <td>0</td>\n",
              "      <td>0</td>\n",
              "      <td>0</td>\n",
              "      <td>0</td>\n",
              "    </tr>\n",
              "    <tr>\n",
              "      <th>3</th>\n",
              "      <td>Afghanistan</td>\n",
              "      <td>2011</td>\n",
              "      <td>0</td>\n",
              "      <td>255550457</td>\n",
              "      <td>71090307</td>\n",
              "      <td>0</td>\n",
              "      <td>1161146581</td>\n",
              "      <td>42565151</td>\n",
              "      <td>0</td>\n",
              "      <td>0</td>\n",
              "      <td>...</td>\n",
              "      <td>0</td>\n",
              "      <td>0</td>\n",
              "      <td>0</td>\n",
              "      <td>0</td>\n",
              "      <td>0</td>\n",
              "      <td>0</td>\n",
              "      <td>0</td>\n",
              "      <td>0</td>\n",
              "      <td>0</td>\n",
              "      <td>0</td>\n",
              "    </tr>\n",
              "    <tr>\n",
              "      <th>4</th>\n",
              "      <td>Afghanistan</td>\n",
              "      <td>2012</td>\n",
              "      <td>0</td>\n",
              "      <td>174345893</td>\n",
              "      <td>103858542</td>\n",
              "      <td>62139240</td>\n",
              "      <td>550983038</td>\n",
              "      <td>26275322</td>\n",
              "      <td>0</td>\n",
              "      <td>3700882</td>\n",
              "      <td>...</td>\n",
              "      <td>0</td>\n",
              "      <td>0</td>\n",
              "      <td>0</td>\n",
              "      <td>0</td>\n",
              "      <td>0</td>\n",
              "      <td>0</td>\n",
              "      <td>0</td>\n",
              "      <td>0</td>\n",
              "      <td>0</td>\n",
              "      <td>0</td>\n",
              "    </tr>\n",
              "  </tbody>\n",
              "</table>\n",
              "<p>5 rows × 28 columns</p>\n",
              "</div>"
            ],
            "text/plain": [
              "       country  year 200        205        236       245         249  \\\n",
              "0  Afghanistan  2008   0  123489461   21275821         0   662126945   \n",
              "1  Afghanistan  2009   0  147976244   39038728         0   701645334   \n",
              "2  Afghanistan  2010   0  215035884   55179237         0  1056567947   \n",
              "3  Afghanistan  2011   0  255550457   71090307         0  1161146581   \n",
              "4  Afghanistan  2012   0  174345893  103858542  62139240   550983038   \n",
              "\n",
              "        253 260      262  ... 950 960 961 962 970 983 999 851 852 850  \n",
              "0    670193   0        0  ...   0   0   0   0   0   0   0   0   0   0  \n",
              "1   1878536   0        0  ...   0   0   0   0   0   0   0   0   0   0  \n",
              "2   3157760   0        0  ...   0   0   0   0   0   0   0   0   0   0  \n",
              "3  42565151   0        0  ...   0   0   0   0   0   0   0   0   0   0  \n",
              "4  26275322   0  3700882  ...   0   0   0   0   0   0   0   0   0   0  \n",
              "\n",
              "[5 rows x 28 columns]"
            ]
          },
          "execution_count": 8,
          "metadata": {},
          "output_type": "execute_result"
        }
      ],
      "source": [
        "df_exports.head()"
      ]
    },
    {
      "cell_type": "markdown",
      "metadata": {},
      "source": [
        "the export data are divided into different categories, as you can see I decided to take only the parent classes. I've decided to preceed this way for 2 reasons:\n",
        "- the dataset misses a lot of data so a lot of categories would results empty for the majority of countries\n",
        "- as we will see the export data are higly correlated with each others so we don't need all the single categories"
      ]
    },
    {
      "cell_type": "markdown",
      "metadata": {},
      "source": [
        "## 3 <span style='color:#164cf0'>|</span> Clean and merge the datasets"
      ]
    },
    {
      "cell_type": "code",
      "execution_count": 9,
      "metadata": {},
      "outputs": [
        {
          "name": "stdout",
          "output_type": "stream",
          "text": [
            "category 200 has: 99% of zeros\n",
            "category 205 has: 26% of zeros\n",
            "category 236 has: 21% of zeros\n",
            "category 245 has: 38% of zeros\n",
            "category 249 has: 65% of zeros\n",
            "category 253 has: 47% of zeros\n",
            "category 260 has: 100% of zeros\n",
            "category 262 has: 59% of zeros\n",
            "category 266 has: 75% of zeros\n",
            "category 268 has: 33% of zeros\n",
            "category 287 has: 52% of zeros\n",
            "category 291 has: 58% of zeros\n",
            "category 887 has: 100% of zeros\n",
            "category 888 has: 100% of zeros\n",
            "category 894 has: 100% of zeros\n",
            "category 900 has: 100% of zeros\n",
            "category 950 has: 100% of zeros\n",
            "category 960 has: 100% of zeros\n",
            "category 961 has: 100% of zeros\n",
            "category 962 has: 100% of zeros\n",
            "category 970 has: 97% of zeros\n",
            "category 983 has: 100% of zeros\n",
            "category 999 has: 95% of zeros\n",
            "category 851 has: 100% of zeros\n",
            "category 852 has: 100% of zeros\n",
            "category 850 has: 100% of zeros\n"
          ]
        }
      ],
      "source": [
        "len_df = len(df_exports)\n",
        "for i in df_exports.iloc[:,2:]:\n",
        "    values = df_exports[i].value_counts()\n",
        "    print(f'category {i} has: {math.trunc((values[0]/len_df)*100)}% of zeros')"
      ]
    },
    {
      "cell_type": "markdown",
      "metadata": {},
      "source": [
        "beacause of the lack of data i decided to pick the top 5 categories in terms of data avilable, these categories are:\n",
        "- 205 (Transportation)\n",
        "- 236 (Travel)\n",
        "- 245 (Communications services)\n",
        "- 253 (Insurance services)\n",
        "- 268 (Other business services)"
      ]
    },
    {
      "cell_type": "code",
      "execution_count": 10,
      "metadata": {},
      "outputs": [],
      "source": [
        "# drop the columns with too much missing data\n",
        "keep_columns = ['country', 'year', '205', '236', '245', '253', '268']\n",
        "df_exports.drop([i for i in df_exports if i not in keep_columns], axis=1, inplace=True)"
      ]
    },
    {
      "cell_type": "code",
      "execution_count": 11,
      "metadata": {},
      "outputs": [
        {
          "data": {
            "text/plain": [
              "46"
            ]
          },
          "execution_count": 11,
          "metadata": {},
          "output_type": "execute_result"
        }
      ],
      "source": [
        "#count the number of non-common countries in the datasets\n",
        "countries_un = un_rates_df['country'].unique()\n",
        "countries_ex = df_exports['country'].unique()\n",
        "len(list(set(countries_ex)-set(countries_un)))"
      ]
    },
    {
      "cell_type": "markdown",
      "metadata": {},
      "source": [
        "apparently there are 20 countries that miss from the un_rates dataframe, but this is due to the way countries are named in the datasets. Foe exemple one dataset write \"Republic\" and the other just write \"Rep\" or sometimes the order of the names is inverted. To solve this problem I created an hash map that changes the names of the countries to meke them compatible."
      ]
    },
    {
      "cell_type": "code",
      "execution_count": 12,
      "metadata": {},
      "outputs": [],
      "source": [
        "with open('countries_names_map.json', 'r') as f:\n",
        "    countries_map = json.load(f)['names_map']\n",
        "\n",
        "un_rates_df['country'].replace(countries_map, inplace = True)"
      ]
    },
    {
      "cell_type": "code",
      "execution_count": 13,
      "metadata": {},
      "outputs": [
        {
          "data": {
            "text/plain": [
              "['Saint Helena',\n",
              " 'Bermuda',\n",
              " 'Curaçao',\n",
              " 'Greenland',\n",
              " 'State of Palestine',\n",
              " 'Anguilla',\n",
              " 'Cayman Isds',\n",
              " 'Grenada',\n",
              " 'Seychelles',\n",
              " \"Côte d'Ivoire\",\n",
              " 'Montserrat',\n",
              " 'Faeroe Isds',\n",
              " 'Dominica',\n",
              " 'Marshall Isds',\n",
              " 'FS Micronesia',\n",
              " 'Saint Kitts and Nevis',\n",
              " 'Antigua and Barbuda',\n",
              " 'Neth. Antilles',\n",
              " 'Kiribati',\n",
              " 'Asia n.i.e.']"
            ]
          },
          "execution_count": 13,
          "metadata": {},
          "output_type": "execute_result"
        }
      ],
      "source": [
        "countries_un = un_rates_df['country'].unique()\n",
        "countries_ex = df_exports['country'].unique()\n",
        "list(set(countries_ex)-set(countries_un))"
      ]
    },
    {
      "cell_type": "markdown",
      "metadata": {},
      "source": [
        "unfortunatly the unemployment rates dataframe doesn't contain 20 of the 188 countrie contained in the export datafraem. Because all these countries are just little islands we will delete them"
      ]
    },
    {
      "cell_type": "code",
      "execution_count": 14,
      "metadata": {},
      "outputs": [],
      "source": [
        "not_common = list(set(countries_un)-set(countries_ex)) + list(set(countries_ex) - set(countries_un))\n",
        "df_exports.drop(df_exports.loc[df_exports['country'].isin(not_common)].index, axis= 0, inplace=True )\n",
        "un_rates_df.drop(un_rates_df.loc[un_rates_df['country'].isin(not_common)].index, axis= 0, inplace=True)"
      ]
    },
    {
      "cell_type": "markdown",
      "metadata": {},
      "source": [
        "now the dataframes contains data about the same countries and we can merge them"
      ]
    },
    {
      "cell_type": "code",
      "execution_count": 15,
      "metadata": {},
      "outputs": [],
      "source": [
        "total_df = df_exports.merge(un_rates_df, on=['country', 'year'])\n",
        "total_df['value'] = total_df['value'].map(lambda x: round(float(x),4))"
      ]
    },
    {
      "cell_type": "code",
      "execution_count": 16,
      "metadata": {},
      "outputs": [
        {
          "data": {
            "text/html": [
              "<div>\n",
              "<style scoped>\n",
              "    .dataframe tbody tr th:only-of-type {\n",
              "        vertical-align: middle;\n",
              "    }\n",
              "\n",
              "    .dataframe tbody tr th {\n",
              "        vertical-align: top;\n",
              "    }\n",
              "\n",
              "    .dataframe thead th {\n",
              "        text-align: right;\n",
              "    }\n",
              "</style>\n",
              "<table border=\"1\" class=\"dataframe\">\n",
              "  <thead>\n",
              "    <tr style=\"text-align: right;\">\n",
              "      <th></th>\n",
              "      <th>country</th>\n",
              "      <th>year</th>\n",
              "      <th>205</th>\n",
              "      <th>236</th>\n",
              "      <th>245</th>\n",
              "      <th>253</th>\n",
              "      <th>268</th>\n",
              "      <th>country code</th>\n",
              "      <th>value</th>\n",
              "    </tr>\n",
              "  </thead>\n",
              "  <tbody>\n",
              "    <tr>\n",
              "      <th>0</th>\n",
              "      <td>Afghanistan</td>\n",
              "      <td>2008</td>\n",
              "      <td>123489461.0</td>\n",
              "      <td>21275821.0</td>\n",
              "      <td>NaN</td>\n",
              "      <td>670193.0</td>\n",
              "      <td>6.035989e+07</td>\n",
              "      <td>AFG</td>\n",
              "      <td>11.093</td>\n",
              "    </tr>\n",
              "    <tr>\n",
              "      <th>1</th>\n",
              "      <td>Afghanistan</td>\n",
              "      <td>2009</td>\n",
              "      <td>147976244.0</td>\n",
              "      <td>39038728.0</td>\n",
              "      <td>NaN</td>\n",
              "      <td>1878536.0</td>\n",
              "      <td>1.873522e+08</td>\n",
              "      <td>AFG</td>\n",
              "      <td>11.311</td>\n",
              "    </tr>\n",
              "    <tr>\n",
              "      <th>2</th>\n",
              "      <td>Afghanistan</td>\n",
              "      <td>2010</td>\n",
              "      <td>215035884.0</td>\n",
              "      <td>55179237.0</td>\n",
              "      <td>NaN</td>\n",
              "      <td>3157760.0</td>\n",
              "      <td>5.296138e+08</td>\n",
              "      <td>AFG</td>\n",
              "      <td>11.352</td>\n",
              "    </tr>\n",
              "    <tr>\n",
              "      <th>3</th>\n",
              "      <td>Afghanistan</td>\n",
              "      <td>2011</td>\n",
              "      <td>255550457.0</td>\n",
              "      <td>71090307.0</td>\n",
              "      <td>NaN</td>\n",
              "      <td>42565151.0</td>\n",
              "      <td>1.255528e+09</td>\n",
              "      <td>AFG</td>\n",
              "      <td>11.054</td>\n",
              "    </tr>\n",
              "    <tr>\n",
              "      <th>4</th>\n",
              "      <td>Afghanistan</td>\n",
              "      <td>2012</td>\n",
              "      <td>174345893.0</td>\n",
              "      <td>103858542.0</td>\n",
              "      <td>62139240.0</td>\n",
              "      <td>26275322.0</td>\n",
              "      <td>3.062497e+08</td>\n",
              "      <td>AFG</td>\n",
              "      <td>11.341</td>\n",
              "    </tr>\n",
              "    <tr>\n",
              "      <th>...</th>\n",
              "      <td>...</td>\n",
              "      <td>...</td>\n",
              "      <td>...</td>\n",
              "      <td>...</td>\n",
              "      <td>...</td>\n",
              "      <td>...</td>\n",
              "      <td>...</td>\n",
              "      <td>...</td>\n",
              "      <td>...</td>\n",
              "    </tr>\n",
              "    <tr>\n",
              "      <th>2374</th>\n",
              "      <td>Zambia</td>\n",
              "      <td>2017</td>\n",
              "      <td>NaN</td>\n",
              "      <td>652552188.0</td>\n",
              "      <td>37019590.0</td>\n",
              "      <td>75443304.0</td>\n",
              "      <td>5.745252e+06</td>\n",
              "      <td>ZMB</td>\n",
              "      <td>11.630</td>\n",
              "    </tr>\n",
              "    <tr>\n",
              "      <th>2375</th>\n",
              "      <td>Zimbabwe</td>\n",
              "      <td>2012</td>\n",
              "      <td>85638227.0</td>\n",
              "      <td>160787751.0</td>\n",
              "      <td>2307714.0</td>\n",
              "      <td>NaN</td>\n",
              "      <td>6.246386e+07</td>\n",
              "      <td>ZWE</td>\n",
              "      <td>5.153</td>\n",
              "    </tr>\n",
              "    <tr>\n",
              "      <th>2376</th>\n",
              "      <td>Zimbabwe</td>\n",
              "      <td>2013</td>\n",
              "      <td>85238089.0</td>\n",
              "      <td>169869988.0</td>\n",
              "      <td>2413870.0</td>\n",
              "      <td>NaN</td>\n",
              "      <td>6.536188e+07</td>\n",
              "      <td>ZWE</td>\n",
              "      <td>4.982</td>\n",
              "    </tr>\n",
              "    <tr>\n",
              "      <th>2377</th>\n",
              "      <td>Zimbabwe</td>\n",
              "      <td>2014</td>\n",
              "      <td>87586505.0</td>\n",
              "      <td>172308007.0</td>\n",
              "      <td>2524909.0</td>\n",
              "      <td>NaN</td>\n",
              "      <td>6.839437e+07</td>\n",
              "      <td>ZWE</td>\n",
              "      <td>4.770</td>\n",
              "    </tr>\n",
              "    <tr>\n",
              "      <th>2378</th>\n",
              "      <td>Zimbabwe</td>\n",
              "      <td>2015</td>\n",
              "      <td>89428679.0</td>\n",
              "      <td>174782911.0</td>\n",
              "      <td>2641057.0</td>\n",
              "      <td>NaN</td>\n",
              "      <td>7.156756e+07</td>\n",
              "      <td>ZWE</td>\n",
              "      <td>4.778</td>\n",
              "    </tr>\n",
              "  </tbody>\n",
              "</table>\n",
              "<p>2379 rows × 9 columns</p>\n",
              "</div>"
            ],
            "text/plain": [
              "          country  year          205          236         245         253  \\\n",
              "0     Afghanistan  2008  123489461.0   21275821.0         NaN    670193.0   \n",
              "1     Afghanistan  2009  147976244.0   39038728.0         NaN   1878536.0   \n",
              "2     Afghanistan  2010  215035884.0   55179237.0         NaN   3157760.0   \n",
              "3     Afghanistan  2011  255550457.0   71090307.0         NaN  42565151.0   \n",
              "4     Afghanistan  2012  174345893.0  103858542.0  62139240.0  26275322.0   \n",
              "...           ...   ...          ...          ...         ...         ...   \n",
              "2374       Zambia  2017          NaN  652552188.0  37019590.0  75443304.0   \n",
              "2375     Zimbabwe  2012   85638227.0  160787751.0   2307714.0         NaN   \n",
              "2376     Zimbabwe  2013   85238089.0  169869988.0   2413870.0         NaN   \n",
              "2377     Zimbabwe  2014   87586505.0  172308007.0   2524909.0         NaN   \n",
              "2378     Zimbabwe  2015   89428679.0  174782911.0   2641057.0         NaN   \n",
              "\n",
              "               268 country code   value  \n",
              "0     6.035989e+07          AFG  11.093  \n",
              "1     1.873522e+08          AFG  11.311  \n",
              "2     5.296138e+08          AFG  11.352  \n",
              "3     1.255528e+09          AFG  11.054  \n",
              "4     3.062497e+08          AFG  11.341  \n",
              "...            ...          ...     ...  \n",
              "2374  5.745252e+06          ZMB  11.630  \n",
              "2375  6.246386e+07          ZWE   5.153  \n",
              "2376  6.536188e+07          ZWE   4.982  \n",
              "2377  6.839437e+07          ZWE   4.770  \n",
              "2378  7.156756e+07          ZWE   4.778  \n",
              "\n",
              "[2379 rows x 9 columns]"
            ]
          },
          "execution_count": 16,
          "metadata": {},
          "output_type": "execute_result"
        }
      ],
      "source": [
        "total_df.replace(0, np.NaN, inplace=True)\n",
        "total_df"
      ]
    },
    {
      "cell_type": "markdown",
      "metadata": {},
      "source": [
        "## 4 <span style='color:#164cf0'>|</span> Visualize data and their correlations"
      ]
    },
    {
      "cell_type": "markdown",
      "metadata": {},
      "source": [
        "the following chunk of code let you plot the data available for the country selected from the drop-down menu along with their correlation matrix. If the option normalized is set to True all the data will be normalized before they are plotted, this is very usefull if some categories have a different size-scale."
      ]
    },
    {
      "cell_type": "code",
      "execution_count": 18,
      "metadata": {},
      "outputs": [
        {
          "data": {
            "application/vnd.jupyter.widget-view+json": {
              "model_id": "180b65a79a0346d78cb53e83d97db42b",
              "version_major": 2,
              "version_minor": 0
            },
            "text/plain": [
              "interactive(children=(Dropdown(description='country', options=('Afghanistan', 'Albania', 'Algeria', 'Angola', …"
            ]
          },
          "metadata": {},
          "output_type": "display_data"
        },
        {
          "data": {
            "text/plain": [
              "<function plot_data.plot_series(country, normalized, df, cat_map)>"
            ]
          },
          "execution_count": 18,
          "metadata": {},
          "output_type": "execute_result"
        }
      ],
      "source": [
        "#the following function creates an intercative plot, where you can select the country from the drop-down menu.\n",
        "#the function will plot the country unemplyment rate along with exports data and their correlation.\n",
        "\n",
        "widgets.interact(plot_data.plot_series, country = [i for i in total_df['country'].unique()], \n",
        "                normalized =False, df = widgets.fixed(total_df), cat_map= widgets.fixed(cat_map))"
      ]
    },
    {
      "cell_type": "code",
      "execution_count": 19,
      "metadata": {},
      "outputs": [],
      "source": [
        "#correlation matrixes\n",
        "correlations_plain = {}\n",
        "data_columns = ['value', '205', '236', '245', '253', '268']\n",
        "\n",
        "for i in total_df['country'].unique():\n",
        "    correlations_plain[i] = total_df.loc[total_df['country'] == i][data_columns].corr().iloc[0][1:]\n"
      ]
    },
    {
      "cell_type": "code",
      "execution_count": 20,
      "metadata": {},
      "outputs": [],
      "source": [
        "corr_list_plain = []\n",
        "\n",
        "for i in correlations_plain.items():\n",
        "    corr_list_plain.append(i[1].values)\n",
        "    \n",
        "corr_list_plain = np.ravel(corr_list_plain)[np.logical_not(np.isnan(np.ravel(corr_list_plain)))]\n",
        "#remove all the values equal to 1.0 or -1.0 as they are the results of missing data\n",
        "corr_list_plain = corr_list_plain[abs(corr_list_plain) != 1.0]"
      ]
    },
    {
      "cell_type": "code",
      "execution_count": 21,
      "metadata": {},
      "outputs": [
        {
          "data": {
            "text/plain": [
              "<matplotlib.legend.Legend at 0x26a503c81c0>"
            ]
          },
          "execution_count": 21,
          "metadata": {},
          "output_type": "execute_result"
        },
        {
          "data": {
            "image/png": "[encoded data removed]",
            "text/plain": [
              "<Figure size 1440x576 with 1 Axes>"
            ]
          },
          "metadata": {},
          "output_type": "display_data"
        }
      ],
      "source": [
        "plt.figure(figsize=(20,8), facecolor='White')\n",
        "plt.hist(corr_list_plain, bins=50, color = 'blue', label = 'correlation')\n",
        "plt.axvline(x= statistics.mean(corr_list_plain), color = 'black', lw = 5, label = 'mean', ls = '--')\n",
        "plt.xlabel('correlation')\n",
        "plt.ylabel('observations')\n",
        "plt.legend()"
      ]
    },
    {
      "cell_type": "markdown",
      "metadata": {},
      "source": [
        "Above we can see the distribution of the correlation values, the average resusts to be slightly negative as the left tail of the distribution is heavier then the right one."
      ]
    },
    {
      "cell_type": "markdown",
      "metadata": {},
      "source": [
        "<font size='4'> 4.1 <span style='color:#164cf0'>|</span> Inference on the correlations distribution</font>"
      ]
    },
    {
      "cell_type": "markdown",
      "metadata": {},
      "source": [
        "<p>To be sure that the negative mean observed in the sample is significantly less then 0 i'll make inference on the correlation distribution </p>\n",
        "<p>The process will be an hypothesis  on the mean of normal distributed population with unknown variance, the hypothesis system is: </p> \n",
        "\n",
        "$$\\left\\{\\begin{matrix}\n",
        "H_{0}:\\mu = 0\\\\ \n",
        "H_{1}:\\mu < 0\n",
        "\\end{matrix}\\right.$$"
      ]
    },
    {
      "cell_type": "markdown",
      "metadata": {},
      "source": [
        "The test statisctics is:\n",
        "$$T = \\frac{\\bar{X} - \\mu_{0}}{S_{n}/\\sqrt{n}}$$"
      ]
    },
    {
      "cell_type": "markdown",
      "metadata": {},
      "source": [
        "this test statistics under $H_{0}$ is distributed as t student with n-1 degree of freedom\n",
        "$$T\\mid H_{0} \\sim t_{n-1}$$"
      ]
    },
    {
      "cell_type": "code",
      "execution_count": 22,
      "metadata": {},
      "outputs": [
        {
          "name": "stdout",
          "output_type": "stream",
          "text": [
            "rejection theshold: -0.03730529567539428\n",
            "sample mean: -0.14499035137392213\n",
            "p-value: 9.13499508222385e-10\n"
          ]
        }
      ],
      "source": [
        "alpha = 0.05\n",
        "n = len(corr_list_plain)\n",
        "df = n-1\n",
        "\n",
        "#calculate the population mean\n",
        "X_mean = statistics.mean(corr_list_plain)\n",
        "#calculate the sample variance\n",
        "X_var = statistics.variance(corr_list_plain)\n",
        "t_alpha = t.ppf(alpha,df = df)\n",
        "\n",
        "#calulate the rejection area and p-value\n",
        "h_alpha = t_alpha * (math.sqrt(X_var)/math.sqrt(n))\n",
        "print(f'rejection theshold: {h_alpha}')\n",
        "print(f'sample mean: {X_mean}')\n",
        "\n",
        "stat_test = (X_mean/math.sqrt(X_var/n))\n",
        "pvalue = t.pdf(stat_test, df = df)\n",
        "print(f'p-value: {pvalue}')"
      ]
    },
    {
      "cell_type": "markdown",
      "metadata": {},
      "source": [
        "as we can see the mean of all the correaltions is less then the rejection area theshold and the p-value is far below 5%, so that means the average is significally less then 0 with a confidence level of 5%."
      ]
    },
    {
      "cell_type": "markdown",
      "metadata": {},
      "source": [
        "<font size='4'> 4.1.2 <span style='color:#164cf0'>|</span> plot the theoretical distribution</font>"
      ]
    },
    {
      "cell_type": "code",
      "execution_count": 23,
      "metadata": {},
      "outputs": [
        {
          "data": {
            "text/plain": [
              "<matplotlib.legend.Legend at 0x26a4e28ffd0>"
            ]
          },
          "execution_count": 23,
          "metadata": {},
          "output_type": "execute_result"
        },
        {
          "data": {
            "image/png": "[encoded data removed]",
            "text/plain": [
              "<Figure size 864x432 with 1 Axes>"
            ]
          },
          "metadata": {},
          "output_type": "display_data"
        }
      ],
      "source": [
        "#create some random sample to plot the distrbution\n",
        "x_dist = t.rvs(df = df, size = 100000)\n",
        "\n",
        "fig, ax = plt.subplots(figsize=(12, 6), facecolor = 'white')\n",
        "\n",
        "sns.kdeplot(x_dist, ax=ax)\n",
        "\n",
        "x = ax.lines[-1].get_xdata()\n",
        "y = ax.lines[-1].get_ydata()\n",
        "\n",
        "#add all the vertical line and shadows\n",
        "ax.vlines(t_alpha, 0, np.interp(t_alpha, x, y), color = 'blue', linestyle='--', alpha=0.5, label = 'rejection theshold')\n",
        "ax.axvline(stat_test, linestyle='--', color='red', alpha=0.5, label = 'sample mean')\n",
        "ax.fill_between(x, 0, y, where=x < t_alpha, color='gold', alpha=0.3, label = 'rejection area')\n",
        "ax.legend()"
      ]
    },
    {
      "cell_type": "markdown",
      "metadata": {},
      "source": [
        "<font size='5'> 4.2 <span style='color:#164cf0'>|</span> Observation</font>"
      ]
    },
    {
      "cell_type": "markdown",
      "metadata": {},
      "source": [
        "As we can see for some countries exports data are positively correlated with the unemploynment rate and for other is not. That sounds strange, beacuse a rise in unemploynment rates should indicate a period of crisis with a consequent drop in exports. To investigate this relation I came up with two different theories"
      ]
    },
    {
      "cell_type": "markdown",
      "metadata": {},
      "source": [
        "## 5 <span style='color:#164cf0'>|</span> study exports and unemploynment correlation"
      ]
    },
    {
      "cell_type": "markdown",
      "metadata": {},
      "source": [
        "I came up with two possible explanations for the positive correlation between unemployment and export some countries presents"
      ]
    },
    {
      "cell_type": "markdown",
      "metadata": {},
      "source": [
        "<font size='4'> 5.1 <span style='color:#164cf0'>|</span> 1° - It's due to the development level of the country</font>"
      ]
    },
    {
      "cell_type": "markdown",
      "metadata": {},
      "source": [
        "the first idea is that the correlation between exports and unemplynment depends by the level of development of the country. Maybe a developed country with a strong internal economy has exports revenues that are less sensitive to periods of crisis and rise in unemploynment rates, while a less developed country could have a more sensible exports revenues. "
      ]
    },
    {
      "cell_type": "code",
      "execution_count": 24,
      "metadata": {},
      "outputs": [],
      "source": [
        "corr_df = total_df.copy()\n",
        "\n",
        "for country in correlations_plain:\n",
        "    for cat in correlations_plain[country].keys():\n",
        "        \n",
        "        corr_df.loc[corr_df.loc[corr_df['country'] == country].index,cat] = correlations_plain[country][cat]"
      ]
    },
    {
      "cell_type": "markdown",
      "metadata": {},
      "source": [
        "As index for the country development I took the Human development Index"
      ]
    },
    {
      "cell_type": "code",
      "execution_count": 25,
      "metadata": {},
      "outputs": [],
      "source": [
        "hdi_df = pd.read_csv('data\\HDI.csv')\n",
        "corr_df = corr_df.merge(hdi_df, on= ['country'])"
      ]
    },
    {
      "cell_type": "markdown",
      "metadata": {},
      "source": [
        "for the plot we take only the countries with more than 10 observations"
      ]
    },
    {
      "cell_type": "code",
      "execution_count": 26,
      "metadata": {},
      "outputs": [],
      "source": [
        "country_samples = corr_df['country'].value_counts()\n",
        "greater_10 = []\n",
        "\n",
        "for i in country_samples.keys():\n",
        "    if country_samples[i] > 10:\n",
        "        greater_10.append(i)"
      ]
    },
    {
      "cell_type": "code",
      "execution_count": 27,
      "metadata": {},
      "outputs": [
        {
          "data": {
            "application/vnd.jupyter.widget-view+json": {
              "model_id": "e394b794dd1f496693b42c901130b3aa",
              "version_major": 2,
              "version_minor": 0
            },
            "text/plain": [
              "interactive(children=(Dropdown(description='category', options=('205', '236', '245', '253', '268'), value='205…"
            ]
          },
          "metadata": {},
          "output_type": "display_data"
        },
        {
          "data": {
            "text/plain": [
              "<function __main__.plot_hdi_corr(category)>"
            ]
          },
          "execution_count": 27,
          "metadata": {},
          "output_type": "execute_result"
        }
      ],
      "source": [
        "def plot_hdi_corr(category):\n",
        "        \n",
        "    plt.figure(figsize=(20,8))\n",
        "    plt.scatter(corr_df.loc[(corr_df['year'] == 2019) & (corr_df['country'].isin(greater_10))]['HDI'], corr_df.loc[(corr_df['year'] == 2019) & (corr_df['country'].isin(greater_10))][category])\n",
        "    plt.xlabel('HDI')\n",
        "    plt.ylabel('unemployment - export correlation')\n",
        "\n",
        "widgets.interact(plot_hdi_corr, category = data_columns[1:])"
      ]
    },
    {
      "cell_type": "markdown",
      "metadata": {},
      "source": [
        "It seems like there's no correlation beetwen the unemplaynment - exports correlation and the country development index"
      ]
    },
    {
      "cell_type": "markdown",
      "metadata": {},
      "source": [
        "<font size='4'> 5.2 <span style='color:#164cf0'>|</span> 2° - the real correlation is contained in the shocks</font>"
      ]
    },
    {
      "cell_type": "markdown",
      "metadata": {},
      "source": [
        "the idea is that the exports grow with time and the real correlation is contained in the shocks. To find It we will remove the trend from the export series and search for correlatiotion in the residuals, to do that we will use only the countries with at least 10 years of data, what we expect to find is reduced right tail in the correlation distribution"
      ]
    },
    {
      "cell_type": "code",
      "execution_count": 28,
      "metadata": {},
      "outputs": [],
      "source": [
        "# drop rows with Nan\n",
        "complete_rows_df = total_df.dropna(axis=0)\n",
        "complete_rows_df_norm = complete_rows_df\n",
        "\n",
        "X_data = ['205', '236', '245', '253', '268']\n",
        "Y_data = ['value']\n",
        "\n",
        "for country in complete_rows_df_norm['country'].unique():\n",
        "    for col in X_data + Y_data:\n",
        "\n",
        "        norm_data = preprocessing.normalize([complete_rows_df_norm.loc[complete_rows_df_norm['country'] == country][col]])[0]\n",
        "        complete_rows_df_norm.loc[complete_rows_df_norm['country'] == country, col] = norm_data"
      ]
    },
    {
      "cell_type": "code",
      "execution_count": 29,
      "metadata": {},
      "outputs": [],
      "source": [
        "# calculate trend and get residuals\n",
        "for country in complete_rows_df_norm['country'].unique():\n",
        "    for cat in X_data:\n",
        "        series_len = len(complete_rows_df_norm.loc[complete_rows_df_norm['country'] == country])\n",
        "        \n",
        "        t_serie = sm.add_constant(range(1,series_len+1))\n",
        "        \n",
        "        model_ols = sm.OLS(np.array(complete_rows_df_norm.loc[complete_rows_df_norm['country'] == country][cat]),t_serie)\n",
        "        trend = model_ols.fit()\n",
        "\n",
        "        complete_rows_df_norm.loc[complete_rows_df_norm['country'] == country, cat] =trend.resid"
      ]
    },
    {
      "cell_type": "code",
      "execution_count": 30,
      "metadata": {},
      "outputs": [
        {
          "data": {
            "application/vnd.jupyter.widget-view+json": {
              "model_id": "4329626723914fae98542af5d12a8c8f",
              "version_major": 2,
              "version_minor": 0
            },
            "text/plain": [
              "interactive(children=(Dropdown(description='country', options=('Afghanistan', 'Albania', 'Algeria', 'Argentina…"
            ]
          },
          "metadata": {},
          "output_type": "display_data"
        },
        {
          "data": {
            "text/plain": [
              "<function plot_data.plot_series(country, normalized, df, cat_map)>"
            ]
          },
          "execution_count": 30,
          "metadata": {},
          "output_type": "execute_result"
        }
      ],
      "source": [
        "widgets.interact(plot_data.plot_series, country = [i for i in complete_rows_df_norm['country'].unique()],\n",
        "                normalized = widgets.fixed(False), df = widgets.fixed(complete_rows_df_norm), cat_map = widgets.fixed(cat_map))"
      ]
    },
    {
      "cell_type": "code",
      "execution_count": 31,
      "metadata": {},
      "outputs": [],
      "source": [
        "#correlation matrixes\n",
        "correlations_res = {}\n",
        "data_columns = ['value', '205', '236', '245', '253', '268']\n",
        "\n",
        "for i in complete_rows_df_norm['country'].unique():\n",
        "    correlations_res[i] = complete_rows_df_norm.loc[complete_rows_df_norm['country'] == i][data_columns].corr().iloc[0][1:]\n",
        "\n",
        "corr_list_resid = []\n",
        "\n",
        "for i in correlations_res.items():\n",
        "    corr_list_resid.append(i[1].values)\n",
        "\n",
        "corr_list_resid = np.ravel(corr_list_resid)[np.logical_not(np.isnan(np.ravel(corr_list_resid)))]\n",
        "#remove all the values equal to 1.0 or -1.0 as they are the results of missing data\n",
        "corr_list_resid = corr_list_resid[abs(corr_list_resid) != 1.0]"
      ]
    },
    {
      "cell_type": "code",
      "execution_count": 32,
      "metadata": {},
      "outputs": [
        {
          "data": {
            "text/plain": [
              "<matplotlib.legend.Legend at 0x26a50842920>"
            ]
          },
          "execution_count": 32,
          "metadata": {},
          "output_type": "execute_result"
        },
        {
          "data": {
            "text/plain": [
              "<Figure size 1440x576 with 0 Axes>"
            ]
          },
          "metadata": {},
          "output_type": "display_data"
        },
        {
          "data": {
            "image/png": "[encoded data removed]",
            "text/plain": [
              "<Figure size 1440x576 with 1 Axes>"
            ]
          },
          "metadata": {},
          "output_type": "display_data"
        }
      ],
      "source": [
        "plt.figure(figsize=(20,8), facecolor='White')\n",
        "\n",
        "plt.figure(figsize=(20,8), facecolor='White')\n",
        "plt.hist(corr_list_plain, bins=50, alpha = 0.5, color = 'red', label='correlation on data')\n",
        "plt.hist(corr_list_resid, bins=50, color = 'blue', label='correlation on residuals')\n",
        "\n",
        "plt.axvline(x= statistics.mean(corr_list_plain), color = 'red', lw = 5, label = 'data corr mean', ls = '--')\n",
        "plt.axvline(x= statistics.mean(corr_list_resid), color = 'blue', lw = 5, label = 'residuals corr mean', ls = '--')\n",
        "plt.legend()"
      ]
    },
    {
      "cell_type": "code",
      "execution_count": 33,
      "metadata": {},
      "outputs": [
        {
          "name": "stdout",
          "output_type": "stream",
          "text": [
            "rejection theshold: -0.03360858419363982\n",
            "sample mean: -0.10097876792014569\n",
            "p-value: 2.360487368910712e-06\n"
          ]
        }
      ],
      "source": [
        "n_resid = len(corr_list_resid)\n",
        "df_resid = n-1\n",
        "\n",
        "#calculate the population mean\n",
        "X_mean_resid = statistics.mean(corr_list_resid)\n",
        "#calculate the sample variance\n",
        "X_var_resid = statistics.variance(corr_list_resid)\n",
        "t_alpha_resid = t.ppf(alpha,df = df_resid)\n",
        "\n",
        "#calulate the rejection area and p-value\n",
        "h_alpha_resid = t_alpha_resid * (math.sqrt(X_var_resid)/math.sqrt(n_resid))\n",
        "print(f'rejection theshold: {h_alpha_resid}')\n",
        "print(f'sample mean: {X_mean_resid}')\n",
        "\n",
        "stat_test_resid = (X_mean_resid/math.sqrt(X_var_resid/n_resid))\n",
        "pvalue_resid = t.pdf(stat_test_resid, df = df_resid)\n",
        "print(f'p-value: {pvalue_resid}')"
      ]
    },
    {
      "cell_type": "markdown",
      "metadata": {},
      "source": [
        "as we can see the correlation distribution is very different from the other one, in particualar, It presents a reduced variance and lighter tails. The mean is slightly higher then the previous distribution but still significantly less then 0."
      ]
    }
  ],
  "metadata": {
    "colab": {
      "name": "main.ipynb",
      "provenance": []
    },
    "kernelspec": {
      "display_name": "Python 3.10.5 ('env': venv)",
      "language": "python",
      "name": "python3"
    },
    "language_info": {
      "codemirror_mode": {
        "name": "ipython",
        "version": 3
      },
      "file_extension": ".py",
      "mimetype": "text/x-python",
      "name": "python",
      "nbconvert_exporter": "python",
      "pygments_lexer": "ipython3",
      "version": "3.10.5"
    },
    "orig_nbformat": 4,
    "vscode": {
      "interpreter": {
        "hash": "d71492b894cc70013e5f6d1e46a6685fc7c7475458532382aef32ed04cc92514"
      }
    }
  },
  "nbformat": 4,
  "nbformat_minor": 0
}
